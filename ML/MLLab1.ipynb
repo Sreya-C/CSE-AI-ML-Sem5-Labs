{
 "cells": [
  {
   "cell_type": "code",
   "execution_count": 1,
   "id": "cc941626",
   "metadata": {},
   "outputs": [],
   "source": [
    "import csv"
   ]
  },
  {
   "cell_type": "code",
   "execution_count": 5,
   "id": "9026230f",
   "metadata": {},
   "outputs": [
    {
     "name": "stdout",
     "output_type": "stream",
     "text": [
      "['Programming Language', 'Designed by', 'Appeared', 'Extension']\n",
      "['Python ', 'Guido Van Rossum', '1991', '.py']\n",
      "['Java ', 'James Gosling', '1995', '.java']\n",
      "['C++ ', 'Bjarne Strousstrup', '1983', '.cpp']\n"
     ]
    }
   ],
   "source": [
    "with open(\"/home/AIML_Student/Documents/210962206/Week1/sheet1.csv\",'rt') as f:\n",
    "    data = csv.reader(f)\n",
    "    for row in data:\n",
    "        print(row)"
   ]
  },
  {
   "cell_type": "code",
   "execution_count": 10,
   "id": "0957d8c3",
   "metadata": {},
   "outputs": [],
   "source": [
    "with open(\"/home/AIML_Student/Documents/210962206/Week1/sheet2.csv\",mode = 'w') as file:\n",
    "    writer = csv.writer(file,delimiter = \",\",quotechar = '\"',quoting = csv.QUOTE_MINIMAL)\n",
    "    writer.writerow(['Programming Language', 'Designed by', 'Appeared', 'Extension'])\n",
    "    writer.writerow(['Python ', 'Guido Van Rossum', '1991', '.py'])\n",
    "    writer.writerow(['Java ', 'James Gosling', '1995', '.java'])\n",
    "    writer.writerow(['C++ ', 'Bjarne Strousstrup', '1983', '.cpp'])\n",
    "    writer.writerow(['C',\"XYZ\",\"1975\",'.c'])"
   ]
  },
  {
   "cell_type": "code",
   "execution_count": 11,
   "id": "7d3adef5",
   "metadata": {},
   "outputs": [
    {
     "name": "stdout",
     "output_type": "stream",
     "text": [
      "['Programming Language', 'Designed by', 'Appeared', 'Extension']\n",
      "['Python ', 'Guido Van Rossum', '1991', '.py']\n",
      "['Java ', 'James Gosling', '1995', '.java']\n",
      "['C++ ', 'Bjarne Strousstrup', '1983', '.cpp']\n",
      "['C', 'XYZ', '1975', '.c']\n"
     ]
    }
   ],
   "source": [
    "with open(\"/home/AIML_Student/Documents/210962206/Week1/sheet2.csv\",'rt') as f:\n",
    "    data = csv.reader(f)\n",
    "    for row in data:\n",
    "        print(row)"
   ]
  },
  {
   "cell_type": "code",
   "execution_count": 13,
   "id": "e7a0bd17",
   "metadata": {},
   "outputs": [
    {
     "name": "stdout",
     "output_type": "stream",
     "text": [
      "['Programming_Language', 'Designed by', 'Appeared', 'Extension']\n",
      "['Python', 'Guido Van Rossum', '1991', '.py']\n",
      "['Java', 'James Gosling', '1995', '.java']\n",
      "['C++', 'Bjarne Stroustrup', '1983', '.cpp']\n",
      "['JavaScript', 'ABCD', '1999', '.js']\n"
     ]
    }
   ],
   "source": [
    "with open(\"/home/AIML_Student/Documents/210962206/Week1/sheet3.csv\",'rt') as f:\n",
    "    data = csv.reader(f)\n",
    "    for row in data:\n",
    "        print(row)"
   ]
  },
  {
   "cell_type": "code",
   "execution_count": 12,
   "id": "542ed0e0",
   "metadata": {},
   "outputs": [],
   "source": [
    "import pandas as pd"
   ]
  },
  {
   "cell_type": "code",
   "execution_count": 13,
   "id": "4eda7a9d",
   "metadata": {},
   "outputs": [
    {
     "name": "stdout",
     "output_type": "stream",
     "text": [
      "  Programming Langauge Designed by Appeared in\n",
      "0               Python       Guido        1991\n",
      "1                 Java       James        1995\n",
      "2                  C++      Bjarne        1983\n"
     ]
    }
   ],
   "source": [
    "import pandas as pd\n",
    "d= {\"Programming Langauge\":[\"Python\",\"Java\",\"C++\"],\"Designed by\":[\"Guido\",\"James\",\"Bjarne\"],\"Appeared in\":[\"1991\",\"1995\",\"1983\"]}\n",
    "df = pd.DataFrame(d,columns = [\"Programming Langauge\",\"Designed by\",\"Appeared in\"])\n",
    "print(df)"
   ]
  },
  {
   "cell_type": "code",
   "execution_count": 11,
   "id": "c4941fef",
   "metadata": {},
   "outputs": [],
   "source": [
    "export_csv = df.to_csv(r'/home/AIML_Student/Documents/210962206/Week1/sheet4.csv',index = None,header = True)"
   ]
  },
  {
   "cell_type": "code",
   "execution_count": 15,
   "id": "c4c33bb6",
   "metadata": {},
   "outputs": [],
   "source": [
    "import numpy as np\n",
    "import pandas as pd\n",
    "import sklearn\n",
    "import scipy\n",
    "import matplotlib \n",
    "import seaborn"
   ]
  },
  {
   "cell_type": "code",
   "execution_count": 73,
   "id": "3618c1c4",
   "metadata": {},
   "outputs": [
    {
     "data": {
      "text/plain": [
       "array([[0, 1, 2],\n",
       "       [3, 4, 5],\n",
       "       [6, 7, 8]])"
      ]
     },
     "execution_count": 73,
     "metadata": {},
     "output_type": "execute_result"
    }
   ],
   "source": [
    "#Convert a 1-D array into a 2-D array with 3 rows.\n",
    "a = np.array([0, 1, 2, 3, 4, 5, 6, 7, 8])\n",
    "a.reshape(3,3)"
   ]
  },
  {
   "cell_type": "code",
   "execution_count": 74,
   "id": "4577f95a",
   "metadata": {},
   "outputs": [
    {
     "data": {
      "text/plain": [
       "array([ 0, -1,  2, -1,  4, -1,  6, -1,  8, -1])"
      ]
     },
     "execution_count": 74,
     "metadata": {},
     "output_type": "execute_result"
    }
   ],
   "source": [
    "#Replace all odd numbers in the given array with -1\n",
    "a = np.array([0, 1, 2, 3, 4, 5, 6, 7, 8, 9])\n",
    "a[a%2!=0] = -1\n",
    "a"
   ]
  },
  {
   "cell_type": "code",
   "execution_count": 57,
   "id": "ef9b7f04",
   "metadata": {},
   "outputs": [
    {
     "name": "stdout",
     "output_type": "stream",
     "text": [
      "(array([1, 2, 4, 5, 6, 7, 8, 9]),)\n",
      "(array([0]),)\n"
     ]
    }
   ],
   "source": [
    "#Find the positions of:elements in x where its value is more than its corresponding element in y, and elements in x where its value is equals to its corresponding element in y.\n",
    "\n",
    "x = np.array([21, 64, 86, 22, 74, 55, 81, 79, 90, 89]) \n",
    "y = np.array([21, 7, 3, 45, 10, 29, 55, 4, 37, 18])\n",
    "\n",
    "print(np.where(x > y))\n",
    "print(np.where(x == y))"
   ]
  },
  {
   "cell_type": "code",
   "execution_count": 62,
   "id": "c9fd751d",
   "metadata": {},
   "outputs": [
    {
     "data": {
      "text/plain": [
       "array([[ 0,  1,  2,  3],\n",
       "       [20, 21, 22, 23],\n",
       "       [40, 41, 42, 43],\n",
       "       [60, 61, 62, 63],\n",
       "       [80, 81, 82, 83]])"
      ]
     },
     "execution_count": 62,
     "metadata": {},
     "output_type": "execute_result"
    }
   ],
   "source": [
    "#Extract the first four columns of this 2-D array.\n",
    "ar = np.arange(100).reshape(5,-1)\n",
    "ar[:,:4]"
   ]
  },
  {
   "cell_type": "code",
   "execution_count": 70,
   "id": "3ab74059",
   "metadata": {},
   "outputs": [
    {
     "data": {
      "text/plain": [
       "array([34, 32, 32, 31, 37, 31, 39, 36, 38, 39])"
      ]
     },
     "execution_count": 70,
     "metadata": {},
     "output_type": "execute_result"
    }
   ],
   "source": [
    "#Generate a 1-D array of 10 random integers. Each integer should be a number between 30 and 40 (inclusive)\n",
    "\n",
    "import random\n",
    "np.random.randint(30,40,size = (10))"
   ]
  },
  {
   "cell_type": "markdown",
   "id": "66f3fe20",
   "metadata": {},
   "source": [
    "ADDITIONAL QUESTIONS"
   ]
  },
  {
   "cell_type": "code",
   "execution_count": 107,
   "id": "653fa0ba",
   "metadata": {},
   "outputs": [
    {
     "name": "stdout",
     "output_type": "stream",
     "text": [
      "[[ 1  2  3]\n",
      " [ 4  5  6]\n",
      " [ 7  8 10]]\n",
      "[[ 7  8 10]\n",
      " [ 4  5  6]\n",
      " [ 1  2  3]]\n",
      "[[ 8 10 13]\n",
      " [ 8 10 12]\n",
      " [ 8 10 13]]\n",
      "[[-6 -6 -7]\n",
      " [ 0  0  0]\n",
      " [ 6  6  7]]\n",
      "A = \n",
      "46\n",
      "[12 15 19]\n",
      "[31 30 31]\n",
      "[[ -4  11  -6]\n",
      " [  0   0   0]\n",
      " [  4 -11   6]]\n",
      "[[ 8 10 13]\n",
      " [ 8 10 12]\n",
      " [ 8 10 13]]\n"
     ]
    },
    {
     "data": {
      "text/plain": [
       "array([[ 8,  8,  8],\n",
       "       [10, 10, 10],\n",
       "       [13, 12, 13]])"
      ]
     },
     "execution_count": 107,
     "metadata": {},
     "output_type": "execute_result"
    }
   ],
   "source": [
    "A = np.array([1, 2, 3,4, 5, 6,7, 8, 10])\n",
    "A = A.reshape(3,-1)\n",
    "B = np.array([7, 8, 10, 4, 5, 6, 1, 2, 3])\n",
    "B = B.reshape(3,-1)\n",
    "#Add and Subtract of the Matrix A and B, print the resultant matrix C for add and E for subtract.\n",
    "C = A+B\n",
    "E = A-B\n",
    "print(A)\n",
    "print(B)\n",
    "print(C)\n",
    "print(E)\n",
    "\n",
    "#Compute the sum of all elements of Matrix A, sum of each column of Matrix B and sum of each row of Matrix C\n",
    "print(\"A = \")\n",
    "print(A.sum())\n",
    "print(B.sum(axis=0))\n",
    "print(C.sum(axis =1))\n",
    "\n",
    "#Product of two matrices A and B, and print the resultant matrix D\n",
    "D = np.cross(A,B)\n",
    "print(D)\n",
    "\n",
    "#Sort the elements of resultant matrix C and print the resultant Matrix E.      \n",
    "E = np.sort(C)\n",
    "print(E)\n",
    "\n",
    "# Transpose the Matrix E and print the result\n",
    "np.transpose(E)"
   ]
  },
  {
   "cell_type": "code",
   "execution_count": null,
   "id": "4c9f5044",
   "metadata": {},
   "outputs": [],
   "source": []
  }
 ],
 "metadata": {
  "kernelspec": {
   "display_name": "Python 3 (ipykernel)",
   "language": "python",
   "name": "python3"
  },
  "language_info": {
   "codemirror_mode": {
    "name": "ipython",
    "version": 3
   },
   "file_extension": ".py",
   "mimetype": "text/x-python",
   "name": "python",
   "nbconvert_exporter": "python",
   "pygments_lexer": "ipython3",
   "version": "3.10.6"
  }
 },
 "nbformat": 4,
 "nbformat_minor": 5
}
