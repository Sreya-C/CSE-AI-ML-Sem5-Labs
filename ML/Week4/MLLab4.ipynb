{
 "cells": [
  {
   "cell_type": "markdown",
   "id": "539830ed",
   "metadata": {},
   "source": [
    "# QUESTIONS"
   ]
  },
  {
   "cell_type": "markdown",
   "id": "36ddbd70",
   "metadata": {},
   "source": [
    "1. Consider the  Table Contains the Average Annual Gold Rate from 1965 – 2022. Gold prices fluctuated throughout the year 2020 because of the COVID-19 epidemic. With gold functioning as a safe haven for investors, demand for the precious metal grew, and its price followed suit. During the epidemic, the stock market weakened, but it began to recover by the end of 2020 when the price of gold fell slightly.\\\n",
    "It’s crucial to remember that gold prices fluctuate during the year, and the figure below represents the average price for that year.\\\n",
    "With the exception of a few lows shared across a few years, The table shows that the gold price trend has always been upward, supporting the claim that gold is a secure investment over extended periods of time.\n",
    "Write a python program to find the fitted simple linear regression equation for the given data. \n",
    "Compare the coefficients obtained from sklearn model with your program. Compute the error, MSE and RMSE. Predict the gold price with the year 2025 for 1 gram."
   ]
  },
  {
   "cell_type": "code",
   "execution_count": 72,
   "id": "8feb267e",
   "metadata": {},
   "outputs": [],
   "source": [
    "import pandas as pd\n",
    "import matplotlib.pyplot as plt\n",
    "import numpy as np\n",
    "from sklearn.linear_model import LinearRegression"
   ]
  },
  {
   "cell_type": "code",
   "execution_count": 5,
   "id": "5dbfcbe9",
   "metadata": {},
   "outputs": [
    {
     "data": {
      "text/html": [
       "<div>\n",
       "<style scoped>\n",
       "    .dataframe tbody tr th:only-of-type {\n",
       "        vertical-align: middle;\n",
       "    }\n",
       "\n",
       "    .dataframe tbody tr th {\n",
       "        vertical-align: top;\n",
       "    }\n",
       "\n",
       "    .dataframe thead th {\n",
       "        text-align: right;\n",
       "    }\n",
       "</style>\n",
       "<table border=\"1\" class=\"dataframe\">\n",
       "  <thead>\n",
       "    <tr style=\"text-align: right;\">\n",
       "      <th></th>\n",
       "      <th>Year</th>\n",
       "      <th>Price</th>\n",
       "    </tr>\n",
       "  </thead>\n",
       "  <tbody>\n",
       "    <tr>\n",
       "      <th>0</th>\n",
       "      <td>2022</td>\n",
       "      <td>52950</td>\n",
       "    </tr>\n",
       "    <tr>\n",
       "      <th>1</th>\n",
       "      <td>2021</td>\n",
       "      <td>50045</td>\n",
       "    </tr>\n",
       "    <tr>\n",
       "      <th>2</th>\n",
       "      <td>2020</td>\n",
       "      <td>48651</td>\n",
       "    </tr>\n",
       "    <tr>\n",
       "      <th>3</th>\n",
       "      <td>2019</td>\n",
       "      <td>35220</td>\n",
       "    </tr>\n",
       "    <tr>\n",
       "      <th>4</th>\n",
       "      <td>2018</td>\n",
       "      <td>31438</td>\n",
       "    </tr>\n",
       "    <tr>\n",
       "      <th>5</th>\n",
       "      <td>2017</td>\n",
       "      <td>29667</td>\n",
       "    </tr>\n",
       "    <tr>\n",
       "      <th>6</th>\n",
       "      <td>2016</td>\n",
       "      <td>28623</td>\n",
       "    </tr>\n",
       "    <tr>\n",
       "      <th>7</th>\n",
       "      <td>2015</td>\n",
       "      <td>26343</td>\n",
       "    </tr>\n",
       "    <tr>\n",
       "      <th>8</th>\n",
       "      <td>2014</td>\n",
       "      <td>28006</td>\n",
       "    </tr>\n",
       "    <tr>\n",
       "      <th>9</th>\n",
       "      <td>2013</td>\n",
       "      <td>29600</td>\n",
       "    </tr>\n",
       "  </tbody>\n",
       "</table>\n",
       "</div>"
      ],
      "text/plain": [
       "   Year  Price\n",
       "0  2022  52950\n",
       "1  2021  50045\n",
       "2  2020  48651\n",
       "3  2019  35220\n",
       "4  2018  31438\n",
       "5  2017  29667\n",
       "6  2016  28623\n",
       "7  2015  26343\n",
       "8  2014  28006\n",
       "9  2013  29600"
      ]
     },
     "execution_count": 5,
     "metadata": {},
     "output_type": "execute_result"
    }
   ],
   "source": [
    "gold = pd.read_csv(\"gold.csv\")\n",
    "gold.head(10)"
   ]
  },
  {
   "cell_type": "code",
   "execution_count": 28,
   "id": "5faf0b9d",
   "metadata": {},
   "outputs": [
    {
     "data": {
      "text/plain": [
       "[<matplotlib.lines.Line2D at 0x7f823fcb3d30>]"
      ]
     },
     "execution_count": 28,
     "metadata": {},
     "output_type": "execute_result"
    },
    {
     "data": {
      "image/png": "[encoded data removed]",
      "text/plain": [
       "<Figure size 720x720 with 1 Axes>"
      ]
     },
     "metadata": {
      "needs_background": "light"
     },
     "output_type": "display_data"
    }
   ],
   "source": [
    "x = gold.Year\n",
    "y = gold.Price\n",
    "fig = plt.figure(figsize = (10,10))\n",
    "plt.xticks([i for i in range(1970,2025,5)])\n",
    "plt.plot(x,y)"
   ]
  },
  {
   "cell_type": "code",
   "execution_count": 66,
   "id": "ca35c606",
   "metadata": {},
   "outputs": [],
   "source": [
    "def LinearRegression(x,y):\n",
    "    n = len(x)\n",
    "    xsum = x.sum()\n",
    "    ysum = y.sum()\n",
    "    npx = np.array(x)\n",
    "    npy = np.array(y)\n",
    "    xy = npx*npy\n",
    "    xysum = xy.sum()\n",
    "    xsquare = npx**2\n",
    "    xsquaresum = xsquare.sum()\n",
    "    b = (n*xysum - xsum*ysum)/((n*xsquaresum) - (xsum)**2)\n",
    "    # a = (ysum - b*xsum)/n\n",
    "    a = (ysum*xsquaresum - xsum*xysum)/((n*xsquaresum) - (xsum)**2)\n",
    "    return (a,b)"
   ]
  },
  {
   "cell_type": "code",
   "execution_count": 67,
   "id": "55a533d2",
   "metadata": {},
   "outputs": [
    {
     "name": "stdout",
     "output_type": "stream",
     "text": [
      "Equation: y =  -1336226.704266511 + 675.343658679135 x\n"
     ]
    }
   ],
   "source": [
    "a,b = LinearRegression(x,y)\n",
    "print(\"Equation: y = \",a,\"+\",b,\"x\")"
   ]
  },
  {
   "cell_type": "code",
   "execution_count": 102,
   "id": "4418d6ab",
   "metadata": {},
   "outputs": [
    {
     "name": "stdout",
     "output_type": "stream",
     "text": [
      "0.6710948804187664\n",
      "[[31344.20455874]]\n",
      "[-1336226.70426651] [[675.34365868]]\n"
     ]
    }
   ],
   "source": [
    "model = LinearRegression()\n",
    "npx = np.array(x)\n",
    "npy = np.array(y)\n",
    "npx = npx.reshape(-1, 1)\n",
    "npy = npy.reshape(-1, 1)\n",
    "model.fit(npx,npy)\n",
    "print(model.score(npx,npy))\n",
    "a = model.intercept_\n",
    "b = model.coef_\n",
    "known = 2025\n",
    "predict = a + b*known\n",
    "print(predict)\n",
    "print(a,b)"
   ]
  },
  {
   "cell_type": "code",
   "execution_count": 99,
   "id": "6c30b269",
   "metadata": {},
   "outputs": [
    {
     "name": "stdout",
     "output_type": "stream",
     "text": [
      "62644360.72375514\n",
      "7914.81905818163\n"
     ]
    }
   ],
   "source": [
    "predicted_vals = a+b*npx\n",
    "residual = np.array(predicted_vals).reshape(-1,1) - npy\n",
    "MSE = (residual**2).sum()/len(npx)\n",
    "print(MSE)\n",
    "RMSE = MSE**(1/2)\n",
    "print(RMSE)"
   ]
  },
  {
   "cell_type": "code",
   "execution_count": 101,
   "id": "6e6b8216",
   "metadata": {},
   "outputs": [
    {
     "name": "stdout",
     "output_type": "stream",
     "text": [
      "For year 2025, Gold prices for 1 gram will be:  [[3134.42045587]]\n"
     ]
    }
   ],
   "source": [
    "print(\"For year 2025, Gold prices for 1 gram will be: \",(a+b*2025)/10)"
   ]
  },
  {
   "cell_type": "code",
   "execution_count": 118,
   "id": "c312ef55",
   "metadata": {},
   "outputs": [
    {
     "name": "stdout",
     "output_type": "stream",
     "text": [
      "For year 2025, Gold prices for 1 gram will be:  [[3066.88609001]]\n"
     ]
    }
   ],
   "source": [
    "print(\"For year 2025, Gold prices for 1 gram will be: \",(a+b*2024)/10)"
   ]
  },
  {
   "cell_type": "code",
   "execution_count": null,
   "id": "b0ea5b39",
   "metadata": {},
   "outputs": [],
   "source": []
  },
  {
   "cell_type": "markdown",
   "id": "bcac9893",
   "metadata": {},
   "source": [
    "2. \n",
    "Consider the Question no 1 gold price with following year-wise silver price. Write a python program to find the fitted multiple linear regression equation for the given data.  Compare the coefficients obtained from sklearn model with your program. Compute the error, MSE and RMSE. Predict the gold and silver price with the year 2024 for 1 gram."
   ]
  },
  {
   "cell_type": "code",
   "execution_count": 112,
   "id": "8154acad",
   "metadata": {},
   "outputs": [],
   "source": [
    "def MultipleRegression(x1,x2,y):\n",
    "    npx1 = np.array(x1)\n",
    "    npx2 = np.array(x2)\n",
    "    npy = np.array(y)\n",
    "    x1sum = x1.sum()\n",
    "    x2sum = x2.sum()\n",
    "    ysum = y.sum()\n",
    "    x1square = npx1**2\n",
    "    x1squaresum = x1square.sum()\n",
    "    x2square = npx2**2\n",
    "    x2squaresum = x2square.sum()\n",
    "    x1x2 = npx1*npx2\n",
    "    x1y = npx1*npy\n",
    "    x2y = npx2*npy\n",
    "    x1x2sum = x1x2.sum()\n",
    "    x1ysum = x1y.sum()\n",
    "    x2ysum = x2y.sum()\n",
    "    b1 = ((x2squaresum*x1ysum) - (x1x2sum*x2ysum))/((x1squaresum*x2squaresum) - (x1x2sum)**2)\n",
    "    b2 = ((x1squaresum*x2ysum) - (x1x2sum*x1ysum))/((x1squaresum*x2squaresum) - (x1x2sum)**2)\n",
    "    b0 = ysum - b1*x1sum - b2*x2sum\n",
    "    return (b0,b1,b2)"
   ]
  },
  {
   "cell_type": "code",
   "execution_count": 113,
   "id": "da74ed97",
   "metadata": {},
   "outputs": [
    {
     "data": {
      "text/html": [
       "<div>\n",
       "<style scoped>\n",
       "    .dataframe tbody tr th:only-of-type {\n",
       "        vertical-align: middle;\n",
       "    }\n",
       "\n",
       "    .dataframe tbody tr th {\n",
       "        vertical-align: top;\n",
       "    }\n",
       "\n",
       "    .dataframe thead th {\n",
       "        text-align: right;\n",
       "    }\n",
       "</style>\n",
       "<table border=\"1\" class=\"dataframe\">\n",
       "  <thead>\n",
       "    <tr style=\"text-align: right;\">\n",
       "      <th></th>\n",
       "      <th>Year</th>\n",
       "      <th>Gold</th>\n",
       "      <th>Silver</th>\n",
       "    </tr>\n",
       "  </thead>\n",
       "  <tbody>\n",
       "    <tr>\n",
       "      <th>0</th>\n",
       "      <td>2022</td>\n",
       "      <td>52950</td>\n",
       "      <td>55100</td>\n",
       "    </tr>\n",
       "    <tr>\n",
       "      <th>1</th>\n",
       "      <td>2021</td>\n",
       "      <td>50045</td>\n",
       "      <td>62572</td>\n",
       "    </tr>\n",
       "    <tr>\n",
       "      <th>2</th>\n",
       "      <td>2020</td>\n",
       "      <td>48651</td>\n",
       "      <td>63435</td>\n",
       "    </tr>\n",
       "    <tr>\n",
       "      <th>3</th>\n",
       "      <td>2019</td>\n",
       "      <td>35220</td>\n",
       "      <td>40600</td>\n",
       "    </tr>\n",
       "    <tr>\n",
       "      <th>4</th>\n",
       "      <td>2018</td>\n",
       "      <td>31438</td>\n",
       "      <td>41400</td>\n",
       "    </tr>\n",
       "  </tbody>\n",
       "</table>\n",
       "</div>"
      ],
      "text/plain": [
       "   Year   Gold  Silver\n",
       "0  2022  52950   55100\n",
       "1  2021  50045   62572\n",
       "2  2020  48651   63435\n",
       "3  2019  35220   40600\n",
       "4  2018  31438   41400"
      ]
     },
     "execution_count": 113,
     "metadata": {},
     "output_type": "execute_result"
    }
   ],
   "source": [
    "gs = pd.read_csv(\"gold_silver.csv\")\n",
    "gs.head()"
   ]
  },
  {
   "cell_type": "markdown",
   "id": "c112a8c7",
   "metadata": {},
   "source": [
    "### Case 1: Predict Silver Price"
   ]
  },
  {
   "cell_type": "code",
   "execution_count": 114,
   "id": "00bb90b9",
   "metadata": {},
   "outputs": [
    {
     "data": {
      "text/plain": [
       "[<matplotlib.lines.Line2D at 0x7f823c89d810>]"
      ]
     },
     "execution_count": 114,
     "metadata": {},
     "output_type": "execute_result"
    },
    {
     "data": {
      "image/png": "[encoded data removed]",
      "text/plain": [
       "<Figure size 720x720 with 1 Axes>"
      ]
     },
     "metadata": {
      "needs_background": "light"
     },
     "output_type": "display_data"
    }
   ],
   "source": [
    "x1 = gs.Year\n",
    "x2 = gs.Gold\n",
    "y = gs.Silver\n",
    "fig = plt.figure(figsize = (10,10))\n",
    "plt.plot(x1,y)"
   ]
  },
  {
   "cell_type": "code",
   "execution_count": 115,
   "id": "5dcd415e",
   "metadata": {},
   "outputs": [
    {
     "name": "stderr",
     "output_type": "stream",
     "text": [
      "/tmp/ipykernel_3767/492306195.py:18: RuntimeWarning: overflow encountered in long_scalars\n",
      "  b1 = ((x2squaresum*x1ysum) - (x1x2sum*x2ysum))/((x1squaresum*x2squaresum) - (x1x2sum)**2)\n"
     ]
    }
   ],
   "source": [
    "b0,b1,b2 = MultipleRegression(x1,x2,y)\n",
    "print(b0,b1,b2)\n",
    "print(\"Equation: y = \",b0,\"+\",b1,\"*x1\",b2,\"*x2\")"
   ]
  },
  {
   "cell_type": "code",
   "execution_count": 119,
   "id": "268b0b79",
   "metadata": {},
   "outputs": [
    {
     "name": "stdout",
     "output_type": "stream",
     "text": [
      "Silver price per gram in 2024 =  41.88052539680597\n"
     ]
    }
   ],
   "source": [
    "year = 2024\n",
    "gold = 30668.8609001\n",
    "predict = b0 + b1*year + b2*gold\n",
    "print(\"Silver price per gram in 2024 = \",predict/1000)"
   ]
  },
  {
   "cell_type": "code",
   "execution_count": 124,
   "id": "aa0d726b",
   "metadata": {},
   "outputs": [
    {
     "name": "stdout",
     "output_type": "stream",
     "text": [
      "21193548544.448414\n",
      "145580.0417105601\n"
     ]
    }
   ],
   "source": [
    "npx1 = np.array(x1)\n",
    "npx2 = np.array(x2)\n",
    "npy = np.array(y)\n",
    "predicted_vals = b0 + b1*npx1 + b2*npx2\n",
    "residual = np.array(predicted_vals).reshape(-1,1) - npy\n",
    "MSE = (residual**2).sum()/len(npx)\n",
    "print(MSE)\n",
    "RMSE = MSE**(1/2)\n",
    "print(RMSE)"
   ]
  },
  {
   "cell_type": "markdown",
   "id": "64c954ba",
   "metadata": {},
   "source": [
    "### Case 2: Predict Gold Price"
   ]
  },
  {
   "cell_type": "code",
   "execution_count": 125,
   "id": "7df25819",
   "metadata": {},
   "outputs": [
    {
     "data": {
      "text/plain": [
       "[<matplotlib.lines.Line2D at 0x7f823c9183d0>]"
      ]
     },
     "execution_count": 125,
     "metadata": {},
     "output_type": "execute_result"
    },
    {
     "data": {
      "image/png": "[encoded data removed]",
      "text/plain": [
       "<Figure size 720x720 with 1 Axes>"
      ]
     },
     "metadata": {
      "needs_background": "light"
     },
     "output_type": "display_data"
    }
   ],
   "source": [
    "x1 = gs.Year\n",
    "x2 = gs.Silver\n",
    "y = gs.Gold\n",
    "fig = plt.figure(figsize = (10,10))\n",
    "plt.plot(x1,y)"
   ]
  },
  {
   "cell_type": "code",
   "execution_count": 126,
   "id": "c587fa86",
   "metadata": {},
   "outputs": [
    {
     "name": "stdout",
     "output_type": "stream",
     "text": [
      "-141.1289228828391 -0.4942313991613354 0.7221120343093753\n",
      "Equation: y =  -141.1289228828391 + -0.4942313991613354 *x1 0.7221120343093753 *x2\n"
     ]
    },
    {
     "name": "stderr",
     "output_type": "stream",
     "text": [
      "/tmp/ipykernel_3767/492306195.py:18: RuntimeWarning: overflow encountered in long_scalars\n",
      "  b1 = ((x2squaresum*x1ysum) - (x1x2sum*x2ysum))/((x1squaresum*x2squaresum) - (x1x2sum)**2)\n"
     ]
    }
   ],
   "source": [
    "b0,b1,b2 = MultipleRegression(x1,x2,y)\n",
    "print(b0,b1,b2)\n",
    "print(\"Equation: y = \",b0,\"+\",b1,\"*x1\",b2,\"*x2\")"
   ]
  },
  {
   "cell_type": "code",
   "execution_count": 127,
   "id": "eac5e2bb",
   "metadata": {},
   "outputs": [
    {
     "name": "stdout",
     "output_type": "stream",
     "text": [
      "Gold price per gram in 2024 =  2910.097811744764\n"
     ]
    }
   ],
   "source": [
    "year = 2024\n",
    "silver = 41880.52539680597\n",
    "predict = b0 + b1*year + b2*silver\n",
    "print(\"Gold price per gram in 2024 = \",predict/10)"
   ]
  },
  {
   "cell_type": "code",
   "execution_count": 128,
   "id": "44acbeac",
   "metadata": {},
   "outputs": [
    {
     "name": "stdout",
     "output_type": "stream",
     "text": [
      "12492727204.215147\n",
      "111770.86921114619\n"
     ]
    }
   ],
   "source": [
    "npx1 = np.array(x1)\n",
    "npx2 = np.array(x2)\n",
    "npy = np.array(y)\n",
    "predicted_vals = b0 + b1*npx1 + b2*npx2\n",
    "residual = np.array(predicted_vals).reshape(-1,1) - npy\n",
    "MSE = (residual**2).sum()/len(npx)\n",
    "print(MSE)\n",
    "RMSE = MSE**(1/2)\n",
    "print(RMSE)"
   ]
  },
  {
   "cell_type": "code",
   "execution_count": null,
   "id": "b3db2410",
   "metadata": {},
   "outputs": [],
   "source": []
  }
 ],
 "metadata": {
  "kernelspec": {
   "display_name": "Python 3 (ipykernel)",
   "language": "python",
   "name": "python3"
  },
  "language_info": {
   "codemirror_mode": {
    "name": "ipython",
    "version": 3
   },
   "file_extension": ".py",
   "mimetype": "text/x-python",
   "name": "python",
   "nbconvert_exporter": "python",
   "pygments_lexer": "ipython3",
   "version": "3.10.12"
  }
 },
 "nbformat": 4,
 "nbformat_minor": 5
}
