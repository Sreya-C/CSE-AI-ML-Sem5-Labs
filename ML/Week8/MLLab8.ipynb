{
 "cells": [
  {
   "cell_type": "markdown",
   "id": "7baac5d4",
   "metadata": {},
   "source": [
    "## SOLVED"
   ]
  },
  {
   "cell_type": "code",
   "execution_count": 1,
   "id": "7d84f5f6",
   "metadata": {},
   "outputs": [
    {
     "name": "stdout",
     "output_type": "stream",
     "text": [
      "0.425\n"
     ]
    }
   ],
   "source": [
    "import pandas as pd\n",
    "#define function for Bayes theorem\n",
    "def bayesTheorem(pA, pB, pBA):\n",
    "    return pA * pBA / pB\n",
    "#define probabilities\n",
    "pRain = 0.2\n",
    "pCloudy = 0.4\n",
    "pCloudyRain = 0.85\n",
    "#use function to calculate conditional probability\n",
    "print(bayesTheorem(pRain, pCloudy, pCloudyRain))"
   ]
  },
  {
   "cell_type": "markdown",
   "id": "b5b52747",
   "metadata": {},
   "source": [
    "# QUESTIONS"
   ]
  },
  {
   "cell_type": "markdown",
   "id": "6b3467de",
   "metadata": {},
   "source": [
    "1a) Of the students in the college, 60% of the students reside in the hostel and 40% of the students are day scholars. Previous year results report that 30% of all students who stay in the hostel scored A Grade and 20% of day scholars scored A grade. At the end of the year, one student is chosen at random and found that he/she has an A grade. What is the probability that the student is a hosteler? "
   ]
  },
  {
   "cell_type": "code",
   "execution_count": 2,
   "id": "25c063ed",
   "metadata": {},
   "outputs": [
    {
     "name": "stdout",
     "output_type": "stream",
     "text": [
      "69.231\n"
     ]
    }
   ],
   "source": [
    "pH, pD = 0.6, 0.4\n",
    "pAH, pAD = 0.3, 0.2\n",
    "\n",
    "def bayesTheorem2(ph,pd,pah,pad):\n",
    "    return (ph*pah)/(ph*pah + pd*pad)\n",
    "\n",
    "pHA = bayesTheorem2(pH,pD,pAH,pAD)\n",
    "prob = round(pHA,5)\n",
    "print(prob*100)"
   ]
  },
  {
   "cell_type": "markdown",
   "id": "e3ee45d6",
   "metadata": {},
   "source": [
    "b) Suppose you're testing for a rare disease, and you have the following information:\\\n",
    "•\tThe disease has a prevalence of 0.01 (1% of the population has the disease).\\\n",
    "•\tThe test is not perfect:\\\n",
    "          1)\tThe test correctly identifies the disease (true positive) 99% of the time (sensitivity).\\\n",
    "          2) \tThe test incorrectly indicates the disease (false positive) 2% of the time (1 - specificity).\\\n",
    "Calculate the probability of having the disease given a positive test result using Bayes' theorem.\n"
   ]
  },
  {
   "cell_type": "code",
   "execution_count": 5,
   "id": "2c6de07a",
   "metadata": {},
   "outputs": [
    {
     "name": "stdout",
     "output_type": "stream",
     "text": [
      "Probability = 33.33%\n"
     ]
    }
   ],
   "source": [
    "#Sensitivity = TP/(TP + FN) and Specificity = TN/(TN + FP) and 1- Specificity = FP/(TN+ FP)\n",
    "pD, pN = 0.01, 0.99 #p(Disease),p(No Disease)\n",
    "pTD, pTN = 0.99, 0.02 # p(Correct identification of disease), p(Result is positive given no disease) \n",
    "pDT = None #p(Having Disease given positive test result)\n",
    "\n",
    "def bayes(pd,pn,ptd,ptn):\n",
    "    return (pd*ptd)/(pd*ptd + pn*ptn)\n",
    "\n",
    "pDT = bayes(pD,pN,pTD,pTN)\n",
    "prob = round(pDT,4)\n",
    "print(f\"Probability = {prob*100}%\")"
   ]
  },
  {
   "cell_type": "markdown",
   "id": "88300865",
   "metadata": {},
   "source": [
    "2) Write a program to implement the naïve Bayesian classifier without using scikit-learn library for the   following sample training data set stored as a .CSV file. Calculate the accuracy, precision, and recall for your train/test data set. To classify ‘If the weather is sunny, then the Player should play or not’?"
   ]
  },
  {
   "cell_type": "code",
   "execution_count": 47,
   "id": "72959b56",
   "metadata": {},
   "outputs": [
    {
     "ename": "SyntaxError",
     "evalue": "invalid syntax (3474308730.py, line 14)",
     "output_type": "error",
     "traceback": [
      "\u001b[1;36m  File \u001b[1;32m\"C:\\Users\\sreya\\AppData\\Local\\Temp\\ipykernel_2848\\3474308730.py\"\u001b[1;36m, line \u001b[1;32m14\u001b[0m\n\u001b[1;33m    sumofprob = [x for x in sum(outcomesyn[x for x in unique])]\u001b[0m\n\u001b[1;37m                                             ^\u001b[0m\n\u001b[1;31mSyntaxError\u001b[0m\u001b[1;31m:\u001b[0m invalid syntax\n"
     ]
    }
   ],
   "source": [
    "import pandas as pd\n",
    "data = pd.read_csv(\"data.csv\")\n",
    "print(data.shape)\n",
    "\n",
    "def NaiveBayesClassifier(outlook,play):\n",
    "    unique = outlook.unique()\n",
    "    outcomesyn = {x : [] for x in unique}\n",
    "    sumofprob = {}\n",
    "    for i in range(len(play)):\n",
    "        if data[\"Play\"][i] == \"Yes\":\n",
    "            outcomesyn[data[\"Outlook\"][i]][0] += 1\n",
    "        else:\n",
    "            outcomesyn[data[\"Outlook\"][i]][1] += 1\n",
    "    return outcomesyn\n",
    "    \n",
    "\n",
    "def classify(out,outcomesyn):\n",
    "    sumofprob = sum()\n",
    "y = list(map(lambda v: 1 if v == \"Yes\" else 0, data['Play'].values)) # target values as string\n",
    "X = data[['Outlook']].values\n",
    "\n",
    "y_train = y[:8]\n",
    "y_val = y[8:]\n",
    "\n",
    "X_train = X[:8]\n",
    "X_val = X[8:]\n",
    "\n",
    "nbc = NaiveBayesClassifier(X_train, y_train)\n",
    "\n",
    "total_cases = len(y_val) # size of validation set\n",
    "\n",
    "tp,tn,fp,fn = 0,0,0,0\n",
    "\n",
    "for i in range(total_cases):\n",
    "    predict = nbc.classify(X_val[i])\n",
    "    print(X_val[i],predict,y_val[i])\n",
    "#     print(y_val[i] + ' --------------- ' + predict)\n",
    "    if y_val[i] == predict:\n",
    "        if y_val[i] == 'no':\n",
    "            tn += 1\n",
    "        else:\n",
    "            tp += 1\n",
    "    else:\n",
    "        if y_val[i] == 'no':\n",
    "            fn += 1\n",
    "        else:\n",
    "            fp += 1\n",
    "\n",
    "good = tp + tn\n",
    "bad = fp + fn\n",
    "print('TOTAL EXAMPLES:', total_cases)\n",
    "print('RIGHT:', good)\n",
    "print('WRONG:', bad)\n",
    "print('ACCURACY:', good/total_cases)\n",
    "try:\n",
    "    print('PRECISION:',tp/(tp+fp))\n",
    "    print('RECALL:',tp/(tp+fn))\n",
    "except ZeroDivisionError:\n",
    "    pass\n",
    "\n",
    "prediction = nbc.classify()\n",
    "print(prediction)\n",
    "print(\"If the weather is Sunny, the player should play:\", \"True\" if prediction==1 else \"False\")"
   ]
  },
  {
   "cell_type": "code",
   "execution_count": 34,
   "id": "3891349a",
   "metadata": {},
   "outputs": [],
   "source": [
    "uniq = data[\"Outlook\"].unique()"
   ]
  },
  {
   "cell_type": "code",
   "execution_count": 35,
   "id": "19cf9176",
   "metadata": {},
   "outputs": [],
   "source": [
    "outcomesyn = {x : [] for x in uniq}"
   ]
  },
  {
   "cell_type": "code",
   "execution_count": 46,
   "id": "21f1fc58",
   "metadata": {},
   "outputs": [
    {
     "name": "stdout",
     "output_type": "stream",
     "text": [
      "Rainy Yes\n",
      "Sunny Yes\n",
      "Overcast Yes\n",
      "Overcast Yes\n",
      "Sunny No\n",
      "Rainy Yes\n",
      "Sunny Yes\n",
      "Overcast Yes\n",
      "Rainy No\n",
      "Sunny No\n",
      "Sunny Yes\n",
      "Rainy No\n",
      "Overcast Yes\n",
      "Overcast Yes\n",
      "{'Rainy': [2, 2], 'Sunny': [3, 2], 'Overcast': [5, 0]}\n"
     ]
    }
   ],
   "source": [
    "outcomesyn = {x : [0,0] for x in uniq}\n",
    "for i in range(len(data[\"Play\"])):\n",
    "    x,y = data[\"Outlook\"][i],data[\"Play\"][i]\n",
    "    print(x,y)\n",
    "    if data[\"Play\"][i] == \"Yes\":\n",
    "        outcomesyn[data[\"Outlook\"][i]][0] += 1\n",
    "    else:\n",
    "        outcomesyn[data[\"Outlook\"][i]][1] += 1\n",
    "print(outcomesyn)"
   ]
  },
  {
   "cell_type": "code",
   "execution_count": 51,
   "id": "bd8895bb",
   "metadata": {},
   "outputs": [
    {
     "name": "stdout",
     "output_type": "stream",
     "text": [
      "5\n"
     ]
    }
   ],
   "source": [
    "sumofprob = sum(outcomesyn[\"Sunny\"])\n",
    "totalyes = map(sum(),outcomesyn.values()[1])"
   ]
  },
  {
   "cell_type": "code",
   "execution_count": null,
   "id": "4a7d51c0",
   "metadata": {},
   "outputs": [],
   "source": []
  }
 ],
 "metadata": {
  "kernelspec": {
   "display_name": "Python 3 (ipykernel)",
   "language": "python",
   "name": "python3"
  },
  "language_info": {
   "codemirror_mode": {
    "name": "ipython",
    "version": 3
   },
   "file_extension": ".py",
   "mimetype": "text/x-python",
   "name": "python",
   "nbconvert_exporter": "python",
   "pygments_lexer": "ipython3",
   "version": "3.9.13"
  }
 },
 "nbformat": 4,
 "nbformat_minor": 5
}
